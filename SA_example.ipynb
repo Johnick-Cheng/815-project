{
 "cells": [
  {
   "cell_type": "code",
   "execution_count": 3,
   "metadata": {},
   "outputs": [
    {
     "name": "stdout",
     "output_type": "stream",
     "text": [
      "Collecting simanneal\n",
      "  Downloading simanneal-0.4.1-py3-none-any.whl\n",
      "Installing collected packages: simanneal\n",
      "Successfully installed simanneal-0.4.1\n"
     ]
    },
    {
     "data": {
      "text/plain": [
       "0"
      ]
     },
     "execution_count": 3,
     "metadata": {},
     "output_type": "execute_result"
    }
   ],
   "source": [
    "import pip\n",
    "\n",
    "pip.main(['install', '-U', 'simanneal'])"
   ]
  },
  {
   "cell_type": "code",
   "execution_count": 7,
   "metadata": {},
   "outputs": [
    {
     "name": "stderr",
     "output_type": "stream",
     "text": [
      " Temperature        Energy    Accept   Improve     Elapsed   Remaining\n",
      "     2.50000       6883.00     4.10%     0.00%     0:00:02     0:00:00"
     ]
    },
    {
     "name": "stdout",
     "output_type": "stream",
     "text": [
      "\n",
      "6845 mile route:\n",
      "\t New York City\n",
      "\t Columbus\n",
      "\t Detroit\n",
      "\t Chicago\n",
      "\t Indianapolis\n",
      "\t Memphis\n",
      "\t Dallas\n",
      "\t Fort Worth\n",
      "\t San Francisco\n",
      "\t San Jose\n",
      "\t Los Angeles\n",
      "\t San Diego\n",
      "\t Phoenix\n",
      "\t San Antonio\n",
      "\t Austin\n",
      "\t Houston\n",
      "\t Jacksonville\n",
      "\t Charlotte\n",
      "\t Baltimore\n",
      "\t Philadelphia\n"
     ]
    }
   ],
   "source": [
    "from __future__ import print_function\n",
    "import math\n",
    "import random\n",
    "from simanneal import Annealer\n",
    "\n",
    "def distance(a, b):\n",
    "    \"\"\"Calculates distance between two latitude-longitude coordinates.\"\"\"\n",
    "    R = 3963  # radius of Earth (miles)\n",
    "    lat1, lon1 = math.radians(a[0]), math.radians(a[1])\n",
    "    lat2, lon2 = math.radians(b[0]), math.radians(b[1])\n",
    "    return math.acos(math.sin(lat1) * math.sin(lat2) +\n",
    "                     math.cos(lat1) * math.cos(lat2) * math.cos(lon1 - lon2)) * R\n",
    "\n",
    "\n",
    "class TravellingSalesmanProblem(Annealer):\n",
    "\n",
    "    \"\"\"Test annealer with a travelling salesman problem.\n",
    "    \"\"\"\n",
    "\n",
    "    # pass extra data (the distance matrix) into the constructor\n",
    "    def __init__(self, state, distance_matrix):\n",
    "        self.distance_matrix = distance_matrix\n",
    "        super(TravellingSalesmanProblem, self).__init__(state)  # important!\n",
    "\n",
    "    def move(self):\n",
    "        \"\"\"Swaps two cities in the route.\"\"\"\n",
    "        a = random.randint(0, len(self.state) - 1)\n",
    "        b = random.randint(0, len(self.state) - 1)\n",
    "        self.state[a], self.state[b] = self.state[b], self.state[a]\n",
    "\n",
    "    def energy(self):\n",
    "        \"\"\"Calculates the length of the route.\"\"\"\n",
    "        e = 0\n",
    "        for i in range(len(self.state)):\n",
    "            e += self.distance_matrix[self.state[i-1]][self.state[i]]\n",
    "        return e\n",
    "\n",
    "\n",
    "\n",
    "if __name__ == '__main__':\n",
    "\n",
    "    # latitude and longitude for the twenty largest U.S. cities\n",
    "    cities = {\n",
    "        'New York City': (40.72, 74.00),\n",
    "        'Los Angeles': (34.05, 118.25),\n",
    "        'Chicago': (41.88, 87.63),\n",
    "        'Houston': (29.77, 95.38),\n",
    "        'Phoenix': (33.45, 112.07),\n",
    "        'Philadelphia': (39.95, 75.17),\n",
    "        'San Antonio': (29.53, 98.47),\n",
    "        'Dallas': (32.78, 96.80),\n",
    "        'San Diego': (32.78, 117.15),\n",
    "        'San Jose': (37.30, 121.87),\n",
    "        'Detroit': (42.33, 83.05),\n",
    "        'San Francisco': (37.78, 122.42),\n",
    "        'Jacksonville': (30.32, 81.70),\n",
    "        'Indianapolis': (39.78, 86.15),\n",
    "        'Austin': (30.27, 97.77),\n",
    "        'Columbus': (39.98, 82.98),\n",
    "        'Fort Worth': (32.75, 97.33),\n",
    "        'Charlotte': (35.23, 80.85),\n",
    "        'Memphis': (35.12, 89.97),\n",
    "        'Baltimore': (39.28, 76.62)\n",
    "    }\n",
    "\n",
    "    # initial state, a randomly-ordered itinerary\n",
    "    init_state = list(cities.keys())\n",
    "    random.shuffle(init_state)\n",
    "\n",
    "    # create a distance matrix\n",
    "    distance_matrix = {}\n",
    "    for ka, va in cities.items():\n",
    "        distance_matrix[ka] = {}\n",
    "        for kb, vb in cities.items():\n",
    "            if kb == ka:\n",
    "                distance_matrix[ka][kb] = 0.0\n",
    "            else:\n",
    "                distance_matrix[ka][kb] = distance(va, vb)\n",
    "\n",
    "    tsp = TravellingSalesmanProblem(init_state, distance_matrix)\n",
    "    tsp.steps = 100000\n",
    "    # since our state is just a list, slice is the fastest way to copy\n",
    "    tsp.copy_strategy = \"slice\"\n",
    "    state, e = tsp.anneal()\n",
    "\n",
    "    while state[0] != 'New York City':\n",
    "        state = state[1:] + state[:1]  # rotate NYC to start\n",
    "\n",
    "    print()\n",
    "    print(\"%i mile route:\" % e)\n",
    "    for city in state:\n",
    "        print(\"\\t\", city)"
   ]
  },
  {
   "cell_type": "code",
   "execution_count": 4,
   "metadata": {},
   "outputs": [],
   "source": [
    "from simanneal import Annealer\n",
    "class TravellingSalesmanProblem(Annealer):\n",
    "    \"\"\"Test annealer with a travelling salesman problem.\"\"\"\n",
    "    def move(self):\n",
    "        \"\"\"Swaps two cities in the route.\"\"\"\n",
    "        a = random.randint(0, len(self.state) - 1)\n",
    "        b = random.randint(0, len(self.state) - 1)\n",
    "        self.state[a], self.state[b] = self.state[b], self.state[a]\n",
    "    def energy(self):\n",
    "        \"\"\"Calculates the length of the route.\"\"\"\n",
    "        e = 0\n",
    "        for i in range(len(self.state)):\n",
    "            e += self.distance(cities[self.state[i - 1]],\n",
    "                          cities[self.state[i]])\n",
    "        return e"
   ]
  },
  {
   "cell_type": "code",
   "execution_count": 5,
   "metadata": {},
   "outputs": [],
   "source": [
    "initial_state = ['New York', 'Los Angeles', 'Boston', 'Houston']\n",
    "tsp = TravellingSalesmanProblem(initial_state)"
   ]
  },
  {
   "cell_type": "code",
   "execution_count": 6,
   "metadata": {},
   "outputs": [
    {
     "ename": "AttributeError",
     "evalue": "'TravellingSalesmanProblem' object has no attribute 'distance'",
     "output_type": "error",
     "traceback": [
      "\u001b[0;31m---------------------------------------------------------------------------\u001b[0m",
      "\u001b[0;31mAttributeError\u001b[0m                            Traceback (most recent call last)",
      "\u001b[0;32m<ipython-input-6-a1a59fa0abe6>\u001b[0m in \u001b[0;36m<module>\u001b[0;34m()\u001b[0m\n\u001b[0;32m----> 1\u001b[0;31m \u001b[0mitinerary\u001b[0m\u001b[0;34m,\u001b[0m \u001b[0mmiles\u001b[0m \u001b[0;34m=\u001b[0m \u001b[0mtsp\u001b[0m\u001b[0;34m.\u001b[0m\u001b[0manneal\u001b[0m\u001b[0;34m(\u001b[0m\u001b[0;34m)\u001b[0m\u001b[0;34m\u001b[0m\u001b[0m\n\u001b[0m",
      "\u001b[0;32m/opt/conda/lib/python3.6/site-packages/simanneal/anneal.py\u001b[0m in \u001b[0;36manneal\u001b[0;34m(self)\u001b[0m\n\u001b[1;32m    180\u001b[0m         \u001b[0;31m# Note initial state\u001b[0m\u001b[0;34m\u001b[0m\u001b[0;34m\u001b[0m\u001b[0m\n\u001b[1;32m    181\u001b[0m         \u001b[0mT\u001b[0m \u001b[0;34m=\u001b[0m \u001b[0mself\u001b[0m\u001b[0;34m.\u001b[0m\u001b[0mTmax\u001b[0m\u001b[0;34m\u001b[0m\u001b[0m\n\u001b[0;32m--> 182\u001b[0;31m         \u001b[0mE\u001b[0m \u001b[0;34m=\u001b[0m \u001b[0mself\u001b[0m\u001b[0;34m.\u001b[0m\u001b[0menergy\u001b[0m\u001b[0;34m(\u001b[0m\u001b[0;34m)\u001b[0m\u001b[0;34m\u001b[0m\u001b[0m\n\u001b[0m\u001b[1;32m    183\u001b[0m         \u001b[0mprevState\u001b[0m \u001b[0;34m=\u001b[0m \u001b[0mself\u001b[0m\u001b[0;34m.\u001b[0m\u001b[0mcopy_state\u001b[0m\u001b[0;34m(\u001b[0m\u001b[0mself\u001b[0m\u001b[0;34m.\u001b[0m\u001b[0mstate\u001b[0m\u001b[0;34m)\u001b[0m\u001b[0;34m\u001b[0m\u001b[0m\n\u001b[1;32m    184\u001b[0m         \u001b[0mprevEnergy\u001b[0m \u001b[0;34m=\u001b[0m \u001b[0mE\u001b[0m\u001b[0;34m\u001b[0m\u001b[0m\n",
      "\u001b[0;32m<ipython-input-4-4ba8cdfe62b7>\u001b[0m in \u001b[0;36menergy\u001b[0;34m(self)\u001b[0m\n\u001b[1;32m     11\u001b[0m         \u001b[0me\u001b[0m \u001b[0;34m=\u001b[0m \u001b[0;36m0\u001b[0m\u001b[0;34m\u001b[0m\u001b[0m\n\u001b[1;32m     12\u001b[0m         \u001b[0;32mfor\u001b[0m \u001b[0mi\u001b[0m \u001b[0;32min\u001b[0m \u001b[0mrange\u001b[0m\u001b[0;34m(\u001b[0m\u001b[0mlen\u001b[0m\u001b[0;34m(\u001b[0m\u001b[0mself\u001b[0m\u001b[0;34m.\u001b[0m\u001b[0mstate\u001b[0m\u001b[0;34m)\u001b[0m\u001b[0;34m)\u001b[0m\u001b[0;34m:\u001b[0m\u001b[0;34m\u001b[0m\u001b[0m\n\u001b[0;32m---> 13\u001b[0;31m             e += self.distance(cities[self.state[i - 1]],\n\u001b[0m\u001b[1;32m     14\u001b[0m                           cities[self.state[i]])\n\u001b[1;32m     15\u001b[0m         \u001b[0;32mreturn\u001b[0m \u001b[0me\u001b[0m\u001b[0;34m\u001b[0m\u001b[0m\n",
      "\u001b[0;31mAttributeError\u001b[0m: 'TravellingSalesmanProblem' object has no attribute 'distance'"
     ]
    }
   ],
   "source": [
    "itinerary, miles = tsp.anneal()"
   ]
  }
 ],
 "metadata": {
  "kernelspec": {
   "display_name": "Python 3",
   "language": "python",
   "name": "python3"
  },
  "language_info": {
   "codemirror_mode": {
    "name": "ipython",
    "version": 3
   },
   "file_extension": ".py",
   "mimetype": "text/x-python",
   "name": "python",
   "nbconvert_exporter": "python",
   "pygments_lexer": "ipython3",
   "version": "3.6.2"
  },
  "toc": {
   "colors": {
    "hover_highlight": "#DAA520",
    "navigate_num": "#000000",
    "navigate_text": "#333333",
    "running_highlight": "#FF0000",
    "selected_highlight": "#FFD700",
    "sidebar_border": "#EEEEEE",
    "wrapper_background": "#FFFFFF"
   },
   "moveMenuLeft": true,
   "nav_menu": {
    "height": "12px",
    "width": "252px"
   },
   "navigate_menu": true,
   "number_sections": true,
   "sideBar": true,
   "threshold": 4,
   "toc_cell": false,
   "toc_section_display": "block",
   "toc_window_display": false,
   "widenNotebook": false
  }
 },
 "nbformat": 4,
 "nbformat_minor": 2
}
